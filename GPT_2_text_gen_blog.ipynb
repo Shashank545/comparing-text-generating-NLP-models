{
  "nbformat": 4,
  "nbformat_minor": 0,
  "metadata": {
    "colab": {
      "name": "GPT-2_text_gen_blog",
      "provenance": [],
      "collapsed_sections": [
        "Bj2IJLHP3KwE",
        "0wXB05bPDYxS",
        "N8KXuKWzQSsN",
        "BT__brhBCvJu",
        "LdpZQXknFNY3",
        "pel-uBULXO2L",
        "ClJwpF_ACONp",
        "QQAN3M6RT7Kj"
      ],
      "toc_visible": true
    },
    "kernelspec": {
      "name": "python3",
      "display_name": "Python 3"
    },
    "accelerator": "GPU"
  },
  "cells": [
    {
      "cell_type": "markdown",
      "metadata": {
        "id": "H7LoMj4GA4n_"
      },
      "source": [
        "#  Train a GPT-2 Text-Generating Model w/ GPU For Free \n",
        "\n",
        "\n",
        "\n",
        "*Last updated: August 14th, 2021*\n",
        "\n",
        "Retrain an advanced text generating neural network on any text dataset **for free on a GPU using Collaboratory** using `gpt-2-simple`!\n",
        "\n",
        "To get started:\n",
        "\n",
        "1. Copy this notebook to your Google Drive to keep it and save your changes. (File -> Save a Copy in Drive)\n",
        "2. Make sure you're running the notebook in Google Chrome.\n",
        "3. Run the cells below:\n"
      ]
    },
    {
      "cell_type": "code",
      "metadata": {
        "id": "KBkpRgBCBS2_",
        "colab": {
          "base_uri": "https://localhost:8080/"
        },
        "outputId": "3a958150-143c-46a3-f2f1-a4dd869feaf6"
      },
      "source": [
        "%tensorflow_version 1.x\n",
        "!pip install -q gpt-2-simple\n",
        "import gpt_2_simple as gpt2\n",
        "from datetime import datetime\n",
        "from google.colab import files"
      ],
      "execution_count": null,
      "outputs": [
        {
          "output_type": "stream",
          "text": [
            "TensorFlow 1.x selected.\n",
            "  Building wheel for gpt-2-simple (setup.py) ... \u001b[?25l\u001b[?25hdone\n",
            "WARNING:tensorflow:\n",
            "The TensorFlow contrib module will not be included in TensorFlow 2.0.\n",
            "For more information, please see:\n",
            "  * https://github.com/tensorflow/community/blob/master/rfcs/20180907-contrib-sunset.md\n",
            "  * https://github.com/tensorflow/addons\n",
            "  * https://github.com/tensorflow/io (for I/O related ops)\n",
            "If you depend on functionality not listed there, please file an issue.\n",
            "\n"
          ],
          "name": "stdout"
        }
      ]
    },
    {
      "cell_type": "markdown",
      "metadata": {
        "id": "Bj2IJLHP3KwE"
      },
      "source": [
        "## GPU\n",
        "\n",
        "Colaboratory uses either a Nvidia T4 GPU or an Nvidia K80 GPU. The T4 is slightly faster than the old K80 for training GPT-2, and has more memory allowing you to train the larger GPT-2 models and generate more text.\n",
        "\n",
        "You can verify which GPU is active by running the cell below."
      ]
    },
    {
      "cell_type": "code",
      "metadata": {
        "id": "sUmTooTW3osf",
        "colab": {
          "base_uri": "https://localhost:8080/"
        },
        "outputId": "358eed45-8f04-47e1-d837-dea4ccddcad7"
      },
      "source": [
        "!nvidia-smi"
      ],
      "execution_count": null,
      "outputs": [
        {
          "output_type": "stream",
          "text": [
            "Fri Jul 30 15:24:53 2021       \n",
            "+-----------------------------------------------------------------------------+\n",
            "| NVIDIA-SMI 470.42.01    Driver Version: 460.32.03    CUDA Version: 11.2     |\n",
            "|-------------------------------+----------------------+----------------------+\n",
            "| GPU  Name        Persistence-M| Bus-Id        Disp.A | Volatile Uncorr. ECC |\n",
            "| Fan  Temp  Perf  Pwr:Usage/Cap|         Memory-Usage | GPU-Util  Compute M. |\n",
            "|                               |                      |               MIG M. |\n",
            "|===============================+======================+======================|\n",
            "|   0  Tesla T4            Off  | 00000000:00:04.0 Off |                    0 |\n",
            "| N/A   39C    P8    10W /  70W |      0MiB / 15109MiB |      0%      Default |\n",
            "|                               |                      |                  N/A |\n",
            "+-------------------------------+----------------------+----------------------+\n",
            "                                                                               \n",
            "+-----------------------------------------------------------------------------+\n",
            "| Processes:                                                                  |\n",
            "|  GPU   GI   CI        PID   Type   Process name                  GPU Memory |\n",
            "|        ID   ID                                                   Usage      |\n",
            "|=============================================================================|\n",
            "|  No running processes found                                                 |\n",
            "+-----------------------------------------------------------------------------+\n"
          ],
          "name": "stdout"
        }
      ]
    },
    {
      "cell_type": "markdown",
      "metadata": {
        "id": "0wXB05bPDYxS"
      },
      "source": [
        "## Downloading GPT-2\n",
        "\n",
        "If you're retraining a model on new text, you need to download the GPT-2 model first. \n",
        "\n",
        "There are three released sizes of GPT-2:\n",
        "\n",
        "* `124M` (default): the \"small\" model, 500MB on disk.\n",
        "* `355M`: the \"medium\" model, 1.5GB on disk.\n",
        "* `774M`: the \"large\" model, cannot currently be finetuned with Colaboratory but can be used to generate text from the pretrained model (see later in Notebook)\n",
        "* `1558M`: the \"extra large\", true model. Will not work if a K80/P4 GPU is attached to the notebook. (like `774M`, it cannot be finetuned).\n",
        "\n",
        "Larger models have more knowledge, but take longer to finetune and longer to generate text. You can specify which base model to use by changing `model_name` in the cells below.\n",
        "\n",
        "The next cell downloads it from Google Cloud Storage and saves it in the Colaboratory VM at `/models/<model_name>`.\n",
        "\n",
        "This model isn't permanently saved in the Colaboratory VM; you'll have to redownload it if you want to retrain it at a later time."
      ]
    },
    {
      "cell_type": "code",
      "metadata": {
        "id": "P8wSlgXoDPCR",
        "colab": {
          "base_uri": "https://localhost:8080/"
        },
        "outputId": "482a9a82-e2e6-4017-b76a-e8ab17c5879d"
      },
      "source": [
        "gpt2.download_gpt2(model_name=\"124M\")"
      ],
      "execution_count": null,
      "outputs": [
        {
          "output_type": "stream",
          "text": [
            "Fetching checkpoint: 1.05Mit [00:00, 523Mit/s]                                                      \n",
            "Fetching encoder.json: 1.05Mit [00:00, 2.78Mit/s]\n",
            "Fetching hparams.json: 1.05Mit [00:00, 743Mit/s]                                                    \n",
            "Fetching model.ckpt.data-00000-of-00001: 498Mit [00:26, 18.7Mit/s]                                  \n",
            "Fetching model.ckpt.index: 1.05Mit [00:00, 280Mit/s]                                                \n",
            "Fetching model.ckpt.meta: 1.05Mit [00:00, 3.91Mit/s]\n",
            "Fetching vocab.bpe: 1.05Mit [00:00, 3.84Mit/s]\n"
          ],
          "name": "stderr"
        }
      ]
    },
    {
      "cell_type": "markdown",
      "metadata": {
        "id": "N8KXuKWzQSsN"
      },
      "source": [
        "## Mounting Google Drive\n",
        "\n",
        "The best way to get input text to-be-trained into the Colaboratory VM, and to get the trained model *out* of Colaboratory, is to route it through Google Drive *first*.\n",
        "\n",
        "Running this cell (which will only work in Colaboratory) will mount your personal Google Drive in the VM, which later cells can use to get data in/out. (it will ask for an auth code; that auth is not saved anywhere)"
      ]
    },
    {
      "cell_type": "code",
      "metadata": {
        "id": "puq4iC6vUAHc",
        "colab": {
          "base_uri": "https://localhost:8080/"
        },
        "outputId": "8628e33d-de07-42fe-9b28-ffe340bea433"
      },
      "source": [
        "gpt2.mount_gdrive()"
      ],
      "execution_count": null,
      "outputs": [
        {
          "output_type": "stream",
          "text": [
            "Mounted at /content/drive\n"
          ],
          "name": "stdout"
        }
      ]
    },
    {
      "cell_type": "markdown",
      "metadata": {
        "id": "BT__brhBCvJu"
      },
      "source": [
        "## Uploading a Text File to be Trained to Colaboratory\n",
        "\n",
        "In the Colaboratory Notebook sidebar on the left of the screen, select *Files*. From there you can upload files:\n",
        "\n",
        "![alt text](https://i.imgur.com/TGcZT4h.png)\n",
        "\n",
        "Upload **any smaller text file**  (<10 MB) and update the file name in the cell below, then run the cell."
      ]
    },
    {
      "cell_type": "code",
      "metadata": {
        "id": "6OFnPCLADfll"
      },
      "source": [
        "file_name = \"tweets_100344_lg.txt\""
      ],
      "execution_count": null,
      "outputs": []
    },
    {
      "cell_type": "markdown",
      "metadata": {
        "id": "HeeSKtNWUedE"
      },
      "source": [
        "If your text file is larger than 10MB, it is recommended to upload that file to Google Drive first, then copy that file from Google Drive to the Colaboratory VM."
      ]
    },
    {
      "cell_type": "code",
      "metadata": {
        "id": "-Z6okFD8VKtS"
      },
      "source": [
        "gpt2.copy_file_from_gdrive(file_name)"
      ],
      "execution_count": null,
      "outputs": []
    },
    {
      "cell_type": "markdown",
      "metadata": {
        "id": "LdpZQXknFNY3"
      },
      "source": [
        "## Finetune GPT-2\n",
        "\n",
        "The next cell will start the actual finetuning of GPT-2. It creates a persistent TensorFlow session which stores the training config, then runs the training for the specified number of `steps`. (to have the finetuning run indefinitely, set `steps = -1`)\n",
        "\n",
        "The model checkpoints will be saved in `/checkpoint/run1` by default. The checkpoints are saved every 500 steps (can be changed) and when the cell is stopped.\n",
        "\n",
        "The training might time out after 4ish hours; make sure you end training and save the results so you don't lose them!\n",
        "\n",
        "**IMPORTANT NOTE:** If you want to rerun this cell, **restart the VM first** (Runtime -> Restart Runtime). You will need to rerun imports but not recopy files.\n",
        "\n",
        "Other optional-but-helpful parameters for `gpt2.finetune`:\n",
        "\n",
        "\n",
        "*  **`restore_from`**: Set to `fresh` to start training from the base GPT-2, or set to `latest` to restart training from an existing checkpoint.\n",
        "* **`sample_every`**: Number of steps to print example output\n",
        "* **`print_every`**: Number of steps to print training progress.\n",
        "* **`learning_rate`**:  Learning rate for the training. (default `1e-4`, can lower to `1e-5` if you have <1MB input data)\n",
        "*  **`run_name`**: subfolder within `checkpoint` to save the model. This is useful if you want to work with multiple models (will also need to specify  `run_name` when loading the model)\n",
        "* **`overwrite`**: Set to `True` if you want to continue finetuning an existing model (w/ `restore_from='latest'`) without creating duplicate copies. "
      ]
    },
    {
      "cell_type": "code",
      "metadata": {
        "id": "aeXshJM-Cuaf",
        "colab": {
          "base_uri": "https://localhost:8080/"
        },
        "outputId": "e9732f1a-216a-4448-8e79-3c8a792f2c93"
      },
      "source": [
        "sess = gpt2.start_tf_sess()\n",
        "\n",
        "gpt2.finetune(sess,\n",
        "              dataset=file_name,\n",
        "              model_name='124M',\n",
        "              steps=1000,\n",
        "              restore_from='fresh',\n",
        "              run_name='run1',\n",
        "              print_every=10,\n",
        "              sample_every=200,\n",
        "              save_every=500\n",
        "              )"
      ],
      "execution_count": null,
      "outputs": [
        {
          "output_type": "stream",
          "text": [
            "WARNING:tensorflow:From /usr/local/lib/python3.7/dist-packages/gpt_2_simple/src/sample.py:17: where (from tensorflow.python.ops.array_ops) is deprecated and will be removed in a future version.\n",
            "Instructions for updating:\n",
            "Use tf.where in 2.0, which has the same broadcast rule as np.where\n",
            "Loading checkpoint models/124M/model.ckpt\n",
            "INFO:tensorflow:Restoring parameters from models/124M/model.ckpt\n"
          ],
          "name": "stdout"
        },
        {
          "output_type": "stream",
          "text": [
            "\r  0%|          | 0/1 [00:00<?, ?it/s]"
          ],
          "name": "stderr"
        },
        {
          "output_type": "stream",
          "text": [
            "Loading dataset...\n"
          ],
          "name": "stdout"
        },
        {
          "output_type": "stream",
          "text": [
            "100%|██████████| 1/1 [00:12<00:00, 12.34s/it]\n"
          ],
          "name": "stderr"
        },
        {
          "output_type": "stream",
          "text": [
            "dataset has 2226460 tokens\n",
            "Training...\n",
            "[10 | 28.57] loss=3.76 avg=3.76\n",
            "[20 | 50.41] loss=4.16 avg=3.96\n",
            "[30 | 72.85] loss=3.69 avg=3.87\n",
            "[40 | 95.94] loss=3.87 avg=3.87\n",
            "[50 | 120.32] loss=3.54 avg=3.80\n",
            "[60 | 144.67] loss=3.73 avg=3.79\n",
            "[70 | 168.38] loss=3.59 avg=3.76\n",
            "[80 | 192.16] loss=3.82 avg=3.77\n",
            "[90 | 216.31] loss=3.66 avg=3.76\n",
            "[100 | 240.55] loss=3.06 avg=3.68\n",
            "[110 | 264.74] loss=3.65 avg=3.68\n",
            "[120 | 288.87] loss=3.58 avg=3.67\n",
            "[130 | 312.92] loss=3.32 avg=3.64\n",
            "[140 | 336.92] loss=3.50 avg=3.63\n",
            "[150 | 360.95] loss=3.34 avg=3.61\n",
            "[160 | 384.97] loss=3.26 avg=3.59\n",
            "[170 | 408.98] loss=3.66 avg=3.59\n",
            "[180 | 432.99] loss=3.15 avg=3.56\n",
            "[190 | 456.98] loss=3.57 avg=3.56\n",
            "[200 | 480.98] loss=3.02 avg=3.53\n",
            "======== SAMPLE 1 ========\n",
            " arriving a request by the FDA for a vaccine that includes SputnikV\n",
            "Just got my first vaccine today I got my first dose in the gym today\n",
            "Just got my first dose of SputnikV Thank you\n",
            "So here we go again\n",
            "Just got my 1st shot today vaccinated\n",
            "I have had my first SputnikV vaccine in Brazil SputnikV\n",
            "I am sure all the people in Russia are aware of the Russian vaccine SputnikV And they want to keep vaccinatio\n",
            "In the second phase of Russia s SputnikV trial a booster dose at 10 times the clinical trial dose is still far\n",
            "Boris I have been on Covid 19 for 16 months the last two years after second dose of SputnikV and was unable to\n",
            "Covid vaccine SputnikV COVID19 vaccination to be made in Russia in December SputnikV\n",
            "What a time to be alive today Covidvaccine Pfizer COVID19\n",
            "So when is the PfizerVaccine likely to get more people to vaccinate with its Covid19 vaccines\n",
            "Just had my first dose of Sputnik V\n",
            "A Russian official said that Russia s Novoselov CoronaVac had arrived early in the second phase of data\n",
            "The company said the vaccine has been tested successfully in a pilot clinical trial of it in people aged aged\n",
            "After seeing PfizerVaccine Pfizer vaccines like AstraZeneca s SputnikV aren t developed into vaccines i\n",
            "The Vaccines For Kids Will Be Easy This June VaccinesForKids is a series of articles about the different vaccine\n",
            "First vaccine done\n",
            "Just had a PfizerVaccine today Just had my first shot Got vaccinated in less than 2 hours\n",
            "Just had my second dose No side effects except my arm is soft\n",
            "We re all excited about SputnikV PfizerVaccine SputnikV\n",
            "Just had my first SputnikV jab today\n",
            "Covid 19 Vaccines GetVaccinated GetVaccinated\n",
            "First dose done The process was simple Thanks to all the people who have been helping to spread the word\n",
            "I had a PfizerVaccine yesterday at 12 15 12 am on a cold day My arm was sore for several hours Then I got a wee pajama\n",
            "Vaccinated\n",
            "Btw SputnikV vaccine is available for those who have already been vaccinated CovidVaccine vaccines SputnikV\n",
            "I think I can get that tomorrow SputnikV\n",
            "First dose done So happy to be in love with my Mother Thank you to all the scientists\n",
            "Just got my first dose of the SputnikV vaccine in Moscow Russia SputnikV\n",
            "2nd shot and very thankful for the scientists in St Petersburg amp to get on well with Russia s best scientists to\n",
            "This is how vaccines work I do not know SputnikV SputnikV\n",
            "2 days in Sputnik v vaccine\n",
            "CovidVaccine SputnikV PfizerVaccine PfizerVaccine SputnikV\n",
            "Covid19 Vaccines Will Be Easy From now on We will be showing everyone the best Vaccine\n",
            "I m officially vaccinated I ve had my CovidVaccine yesterday at 12 45 at my dad was a full shot\n",
            "How can a vaccine designed to fight cancerbe more effective than a vaccine designed to help people avoid disease\n",
            "I am fully vaccinated with the SputnikV vaccine\n",
            "I have been on CovidVaccines for 11 days today So far they are less effective than both modernavaccines\n",
            "I ll do the same Pfizer vaccination PfizerVaccine PfizerVaccine\n",
            "Finally got my SputnikV vaccine yesterday after a few hours of not feeling well but not the first time I ve done\n",
            "It s a really funny story today I received my first shot of the PfizerVaccine a number of weeks ago Feeling so very grateful\n",
            "What a wonderful experience\n",
            "It s been a while since anything has really happened to me since getting my first dose of SputnikV\n",
            "I got the first dose of SputnikV today\n",
            "I m fully inoculated Get your jab SputnikV\n",
            "Vaccine tracker SputnikV tracker\n",
            "Got my first dose of SputnikV Vaccination vaccination SputnikV PfizerVaccine\n",
            "1st SputnikV vaccine done I hope I do well in the months to come\n",
            "The first to do the thing CovidVaccine SputnikV vaccinizer Pfizer\n",
            "A lot of people who have not had the first shot of the SputnikV SputnikV vaccine say they feel so much better now as they re vaccinated\n",
            "Got my 1st PfizerVaccine today And to see the side effects of my first dose CovidVaccine SputnikV\n",
            "What about my second dose of the SputnikV vaccine How much do the participants feel the first time is\n",
            "Day 2 of vaccinations\n",
            "\n",
            "[210 | 516.15] loss=3.27 avg=3.52\n",
            "[220 | 540.32] loss=3.05 avg=3.50\n",
            "[230 | 564.55] loss=2.97 avg=3.47\n",
            "[240 | 588.79] loss=3.35 avg=3.47\n",
            "[250 | 613.03] loss=3.36 avg=3.46\n",
            "[260 | 637.25] loss=3.33 avg=3.46\n",
            "[270 | 661.45] loss=3.30 avg=3.45\n",
            "[280 | 685.57] loss=3.13 avg=3.44\n",
            "[290 | 709.72] loss=3.74 avg=3.45\n",
            "[300 | 733.82] loss=3.07 avg=3.43\n",
            "[310 | 757.91] loss=3.35 avg=3.43\n",
            "[320 | 782.00] loss=3.10 avg=3.42\n",
            "[330 | 806.03] loss=3.29 avg=3.41\n",
            "[340 | 830.14] loss=3.33 avg=3.41\n",
            "[350 | 854.26] loss=3.27 avg=3.41\n",
            "[360 | 878.34] loss=3.05 avg=3.39\n",
            "[370 | 902.41] loss=3.43 avg=3.40\n",
            "[380 | 926.45] loss=2.89 avg=3.38\n",
            "[390 | 950.55] loss=3.04 avg=3.37\n",
            "[400 | 974.70] loss=3.31 avg=3.37\n",
            "======== SAMPLE 1 ========\n",
            " second\n",
            "2 6 of Canadians have received vaccinations from the same Indian pharmaceutical firm in Thailand\n",
            "2 I think there is a gap between vaccine companies but\n",
            "Vaccinated 2 covidVaccine Covaxin COVAXIN CovidVaccine\n",
            "2 I have been vaccinated at least 1 4 of people CovidVaccine Covaxin VaccinationDrive\n",
            "2 A couple of folks are still waiting for 2nd dose of covid 19 vaccine Vaccination for 18 in India now\n",
            "1st dose of covid19 vaccine done VaccineForAll COVAXIN COVID19Vaccine vaccyshop vaccinationforall\n",
            "Covishield amp Covaxin are the best COVID 19 vaccines Covishield 2 Covaxin\n",
            "In other news COVAXIN is an Indian made vaccine with Indian made vaccines Made in India F\n",
            "Covaxin is India made made vaccine with Indian made vaccines made in India\n",
            "Pleased to announce Bharat Biotech s vaccine Covaxin is the latest in India to develop indigenous vaccines\n",
            "Huge number of people have taken Covaxin shots in Delhi today as our team to meet first amp then\n",
            "Covaxin is India made vaccine which has made the vaccine safe the vaccine that made the vaccine safe for ALL\n",
            "Covaxin will be a very big and good thing to happen to covid19 VaccinationFor18Plus COVISHEILD CovidVaccines COVID19\n",
            "In short the Covaxin vaccine has been tested positive to protect against covid19\n",
            "Huge number of people have taken Covaxin shots in Delhi today as our team to meet first amp then\n",
            "Covaxin is India made vaccine\n",
            "Covishield amp Covaxin are Indian made vaccine with Indian made vaccines Made in India F\n",
            "VaccineShorted covaxin covishield covaxin\n",
            "Proud to be an Indian proud proud to be an Indian\n",
            "COVAXIN 2nd Dose covaxin\n",
            "Covaxin is a homegrown vaccine developed by the state of TamilNadu by Bharat Biotech The\n",
            "We are proud to announce BharatBiotech s vaccine Covid19 COVIDVaccination vaccestand\n",
            "Covaxin vaccine isIndiamade vaccine with Indian made vaccines making India the world s third vaccine\n",
            "India Covid 19 VaccinationDrive is working with Covaxin for first and second dose on 11 07 2021 in\n",
            "Covaxin is India made vaccine with Indian made vaccines made by Bharat Biotech\n",
            "We are proud to announce BharatBiotech s vaccine Covid 19 COVID\n",
            "Covaxin is India made vaccine with Indian made vaccines made by Bharat Biotech\n",
            "Covaxin is India made vaccine with Indian made vaccines made by Bharat Biotech\n",
            "Covaxin is India based vaccine with Indian made vaccines made by Bharat Biotech\n",
            "We are proud to announce BharatBiotech s vaccine Covid 19 COVID 19\n",
            "We are proud to announce BharatBiotech s vaccine Covid 19 COVID 19\n",
            "Covidvaccine Covaxin COVAXIN covaxin COVID19\n",
            "The state of TamilNadu to start on 16th June first dose of Covaxin is now available in our hospital in\n",
            "The state of TamilNadu to start on 16th June first dose of Covaxin is now available in our hospital in TamilNadu\n",
            "Covaxin is India made vaccine with Indian made vaccines made by Bharat Biotech\n",
            "We are proud to announce BharatBiotech s vaccine Covid 19 COVID 19 C\n",
            "We are proud to announce BharatBiotech s vaccine Covid 19 COVID 19\n",
            "If you were lucky you know how good vaccine Covaxin is VaccinateIndia Covaxin\n",
            "I know people were saying that the whole vaccine Covaxin is manufactured in India so the one in India is\n",
            "Covaxin is the best I have ever heard in Tamilnadu Thank you India for vaccin\n",
            "There is hope for all of us because Covaxin is the answer to many of the most common vaccines We are proud to announce\n",
            "Covaxin is the best I have heard in Tamil Nadu due to the large number of new cases Covaxin\n",
            "Covaxin is the best I have ever heard in Tamil Nadu due to the large number of new cases Covid19\n",
            "A massive boost for Sri Lanka SriLanka Covishield covaxindia CovidVaccine Covid19India\n",
            "Covaxin will be a good thing for the country It will give us so much hope for Covid19\n",
            "So in all candours of Covaxin the best to end this pandemic Covaxin\n",
            "Covaxin is the best I have heard in Tamil Nadu due to the huge number of new cases Covaxin Covid 19\n",
            "Covaxin is the best I have ever heard in Tamil Nadu due to the large number\n",
            "\n",
            "[410 | 1007.96] loss=3.56 avg=3.37\n",
            "[420 | 1032.04] loss=3.22 avg=3.37\n",
            "[430 | 1056.11] loss=3.27 avg=3.37\n",
            "[440 | 1080.19] loss=2.86 avg=3.35\n",
            "[450 | 1104.25] loss=3.18 avg=3.35\n",
            "[460 | 1128.32] loss=3.04 avg=3.34\n",
            "[470 | 1152.39] loss=3.11 avg=3.33\n",
            "[480 | 1176.50] loss=3.09 avg=3.33\n",
            "[490 | 1200.62] loss=3.22 avg=3.32\n",
            "[500 | 1224.74] loss=3.40 avg=3.33\n",
            "Saving checkpoint/run1/model-500\n",
            "[510 | 1251.77] loss=3.45 avg=3.33\n",
            "[520 | 1276.05] loss=3.09 avg=3.32\n",
            "[530 | 1300.25] loss=3.15 avg=3.32\n",
            "[540 | 1324.49] loss=3.16 avg=3.32\n",
            "[550 | 1348.68] loss=3.20 avg=3.31\n",
            "[560 | 1372.87] loss=3.27 avg=3.31\n",
            "[570 | 1396.98] loss=2.88 avg=3.30\n",
            "[580 | 1421.09] loss=3.18 avg=3.30\n",
            "[590 | 1445.21] loss=3.09 avg=3.29\n",
            "[600 | 1469.33] loss=3.22 avg=3.29\n",
            "======== SAMPLE 1 ========\n",
            " coronin\n",
            "In the United States US is seeking to purchase 200m doses of CovadoVac vaccine for the state of Illinois Read on to see how the\n",
            "I can t wait for them to get rid of COVID19 vaccine that is approved and effective in other hs\n",
            "I have been vaccinated with both Covid 19 vaccines I am extremely privileged and grateful to be a\n",
            "New research suggests mixing COVC 19 vaccines reduces the risk of contracting COVID 19 in people\n",
            "Covishield with AstraZeneca as the second vaccine The Lancet study in this regard has the potential\n",
            "The Lancet study has recommended mixing COVAX into the two COVID19Vaccines developed by\n",
            "The Lancet study has recommended mixing COVAX into the two COVID19Vaccines developed by\n",
            "New Lancet Lancet study suggests mixing COVAX in the two COVID 19vaccines developed by US Pfizer amp\n",
            "A new study of the mixed coronavirus vaccines approved for use in the US has found that mixing the two\n",
            "Good morning everyone I m just so fortunate to get to do my bit as I have been a part of the solution to th\n",
            "Just learned about two new coronavirus vaccines that are in clinical trials Phase 3 trials from the National s\n",
            "The Lancet study has recommended mixing COVAX into the two COVID19Vaccines developed by\n",
            "New Lancet study suggests mixing COVAX in the two COVID19Vaccines developed by US Pfizer amp\n",
            "New Lancet study shows mixing COVAX in the two COVID 19vaccines developed by US Pfizer amp\n",
            "I m so happy to be vaccinated again I ll keep you guys updated with as more new vaccines are\n",
            "The Lancet study has recommended mixing COVAX in the two COVID19Vaccines developed by US Pfizer amp\n",
            "New Lancet study finds mixing COVAX in the two COVID 19vaccines developed by US US Pfizer amp\n",
            "The Lancet study has recommended mixing COVAX in the two COVID 19vaccines developed by US US Pfizer amp\n",
            "The Lancet study has recommended mixing COVAX in the two COVID19vaccines developed by US US Pfizer amp\n",
            "New Lancet study suggests mixing COVAX in the two COVID 19vaccines developed by US US Pfizer amp\n",
            "The Lancet study has recommended mixing COVAX in the two COVID 19vaccines developed by US US Pfizer amp\n",
            "New Lancet study suggests mixing COVAX in the two COVID 19vaccines developed by US US Pfizer amp\n",
            "NEW Lancet study finds mixing COVAX in the two COVID 19vaccines developed by US US Pfizer amp\n",
            "New Lancet study finds mixing COVAX in the two COVID 19vaccines developed by US US Pfizer amp\n",
            "New Lancet study finds mixing COVAX in the two COVID 19vaccines developed by US FDA In\n",
            "New Lancet study finds mixing COVAX in the two COVID 19vaccines developed by US FDA In\n",
            "New Lancet study finds mixing COVAX in the two COVID 19vaccines developed by US US Pfizer amp\n",
            "New Lancet study finds mixing COVAX in the two COVID 19vaccines developed by US FDA In\n",
            "Vaccine tracker Covid 19 Share of Injection by region and Moderna in Italy up to date vacc\n",
            "New Lancet study finds mixing COVAX in the two COVID 19vaccines developed by US US Pfizer amp\n",
            "New Lancet study finds mixing COVAX in the two COVID 19vaccines developed by US FDA In one of the\n",
            "New Lancet study finds mixing COVAX in the two COVID 19vaccines developed by US US Pfizer amp\n",
            "New Lancet study shows mixing COVAX in the two COVID 19vaccines developed by US US Pfizer amp\n",
            "New Lancet study shows mixing COVAX in the two COVID 19vaccines developed by US US Pfizer amp\n",
            "New Lancet study shows mixing COVAX in the two COVID 19vaccines developed by US US Pfizer amp\n",
            "New Lancet study shows mixing COVAX in the two COVID 19vaccines developed by US US Pfizer amp\n",
            "New Lancet study shows mixing COVAX in the two COVID 19vaccines developed by US US Pfizer amp\n",
            "New Lancet study shows mixing COVAX in the two COVID 19vaccines developed by US US Pfizer and\n",
            "New Lancet study shows mixing COVAX in the two COVID 19vaccines developed by US US Pfizer amp\n",
            "New Lancet study shows mixing COVAX in the two COVID 19vaccines developed by US US Pfizer amp\n",
            "New Lancet study shows mixing COVAX in the two COVID 19vaccines developed by US US Pfizer amp\n",
            "NEW Lancet study finds mixing COVAX in the two COVID 19vaccines developed by US US Pfizer amp\n",
            "NEW Lancet study finds mixing COVAX in the two COVID 19vaccines developed by US US Pfizer and\n",
            "New Lancet study shows mixing COVAX in\n",
            "\n",
            "[610 | 1503.23] loss=2.86 avg=3.28\n",
            "[620 | 1527.22] loss=2.67 avg=3.27\n",
            "[630 | 1551.24] loss=2.65 avg=3.26\n",
            "[640 | 1575.37] loss=3.38 avg=3.26\n",
            "[650 | 1599.56] loss=2.94 avg=3.25\n",
            "[660 | 1623.77] loss=2.87 avg=3.24\n",
            "[670 | 1647.95] loss=3.36 avg=3.25\n",
            "[680 | 1672.13] loss=3.21 avg=3.25\n",
            "[690 | 1696.26] loss=3.05 avg=3.24\n",
            "[700 | 1720.42] loss=2.86 avg=3.23\n",
            "[710 | 1744.57] loss=2.94 avg=3.23\n",
            "[720 | 1768.72] loss=3.10 avg=3.23\n",
            "[730 | 1792.84] loss=3.01 avg=3.22\n",
            "[740 | 1816.95] loss=3.04 avg=3.22\n",
            "[750 | 1841.11] loss=3.25 avg=3.22\n",
            "[760 | 1865.24] loss=3.04 avg=3.22\n",
            "[770 | 1889.39] loss=2.76 avg=3.21\n",
            "[780 | 1913.55] loss=2.97 avg=3.20\n",
            "[790 | 1937.66] loss=2.41 avg=3.19\n",
            "[800 | 1961.79] loss=2.62 avg=3.18\n",
            "======== SAMPLE 1 ========\n",
            " agreement doses of OxfordAstraZeneca CovidVaccine OxfordAstraZeneca vaccine from the US\n",
            "Just wanted to say thank you to our team OxfordAstraZeneca Team and NHS and\n",
            "The Astrazeneca vaccine has been the single most well known brand as there is no need to add more new\n",
            "We have the most vaccines globally It s one of those things that you ve gotten from a party All good vaccine\n",
            "Finally some vaccination Done OxfordAstraZeneca ThankYouScotland COVID19Vaccine\n",
            "Can t wait until I get the OxfordAstraZeneca Covid 19 vaccine to get myself and my family vaccinated\n",
            "Oxford Vaccine Shot Rolled Off Stock Along with the PfizerBiontech PfizerVaccine OxfordAstraZeneca\n",
            "The COVIDvaccine Covid 19 has now been approved by the UK government This marks the UK s first amp second\n",
            "We love AstraZeneca AstraZeneca COVID 19 It s amazing to think about the EU being so easily\n",
            "This has never been easier The OxfordAstraZeneca Covid 19 vaccine produced by\n",
            "UK has ordered 5 mln PfizerBiontech coronavirusvacccine doses the National Medicines Procurement Ad\n",
            "My COVID19 vaccine update was so quick and painless Had a lot of fun getting to know the doctors\n",
            "Had my COVID19 vaccine yesterday and I am thrilled I didn t have to endure all the anxiety I ve had all day\n",
            "Had my Covid vaccine yesterday So relieved but also thankful COVID19Vaccine OxfordAstraZeneca\n",
            "Had mine yesterday No side effects so far but it s a relief that my immune system has recovered a\n",
            "Oxford vaccine rollout in England now More than 1 000 vaccines have been rolled out across Europe to make usvac\n",
            "Had my OxfordAstraZeneca vaccine yesterday and I am thrilled I didn t have to endure all the anxiety I ve had all\n",
            "Had my dose yesterday but it was rough Had only mild side effects My skin was rough and I have no allergies COVID19\n",
            "Not yet vaccinated but worth it If they are offering the vaccine they don t need it the c\n",
            "Had my jab yesterday Just a bit more fatigue Had to go to bed in this afternoon due to a head ache had had t\n",
            "Had my COVID19 vaccine yesterday and I am thrilled I didn t have to endure all the anxiety and anxieties I\n",
            "UK is expected to get 5 million doses of the vaccine next week and that s not bad for a vaccination\n",
            "Got mine last night and now just as I hear a voice tell me that the Pfizer and AstraZeneca vaccines\n",
            "Got my first jab today Very grateful for the vaccine I ve got myself vaccinated COVID19Vaccine\n",
            "Covidvaccines have shown positive clinical efficacy for a variety of conditions including cancer and HIV\n",
            "Covid vaccines in the US US UK and Europe are all doing well and are providing more effective vaccines to\n",
            "OxfordAstraZeneca vaccine is a vaccine I can afford to get\n",
            "The UK has already ordered 50 000 PfizerBiontech Covid19 vaccines the latest in a series of planned supplies\n",
            "Can t wait to get the vaccine I m not saying it will make me immune from COVID19 I m just saying that I\n",
            "UK starts rollout of OxfordAstraZeneca COVID 19 vaccine in England\n",
            "As a healthcare worker on one of the UK s roll out trials I am privileged to be able to participate in an ada\n",
            "Today I did it And we re done Let s celebrate with this CovidVaccine COVID19Vaccine COVID19\n",
            "I had first dose of CovidVaccine oxfordastrazeneca a couple of minutes up in the arm so you can feel the\n",
            "Had my second jab OxfordAstraZeneca last evening I feel really happy but I did have a really bad headache yesterday\n",
            "Got my first jab yesterday And it was rough I woke up with a headache of a bit different from my normal\n",
            "Had my first jab yesterday Been on meds since 2pm and had no side effects COVID19 vaccine\n",
            "On Monday night I d received my first shot of the Oxford AstraZeneca coronavirus vaccine A nice step up in the\n",
            "Proud moment that my parents and I went to the beach to get our vaccine yesterday It was a great experience bu\n",
            "Had my vaccination yesterday and I am thrilled to report that the COVIDVaccination went smoothly Thanks to the vaccine\n",
            "OxfordAstraZeneca COVID 19 Vaccine Rolled Off Stock for UK Govt s Use OxfordAstraZeneca CovidVaccine AstraZeneca\n",
            "Had my first vaccine today So excited and incredibly grateful oxfordastrazeneca covidvaccine coronavirus\n",
            "Had mine yesterday Had a small headache and then it lasted for 3 hours but I m happy and now have a headache All day\n",
            "I will always love the Oxford AstraZeneca vaccine I will always love the COVID\n",
            "\n",
            "[810 | 1995.72] loss=3.04 avg=3.18\n",
            "[820 | 2019.73] loss=3.10 avg=3.17\n",
            "[830 | 2043.80] loss=2.47 avg=3.16\n",
            "[840 | 2067.89] loss=2.60 avg=3.15\n",
            "[850 | 2091.96] loss=3.04 avg=3.15\n",
            "[860 | 2116.10] loss=3.05 avg=3.15\n",
            "[870 | 2140.22] loss=3.01 avg=3.15\n",
            "[880 | 2164.35] loss=2.88 avg=3.14\n",
            "[890 | 2188.49] loss=2.91 avg=3.14\n",
            "[900 | 2212.63] loss=2.80 avg=3.13\n",
            "[910 | 2236.75] loss=2.94 avg=3.13\n",
            "[920 | 2260.91] loss=3.13 avg=3.13\n",
            "[930 | 2285.07] loss=3.03 avg=3.13\n",
            "[940 | 2309.19] loss=2.91 avg=3.12\n",
            "[950 | 2333.37] loss=2.38 avg=3.11\n",
            "[960 | 2357.50] loss=2.90 avg=3.11\n",
            "[970 | 2381.66] loss=3.04 avg=3.11\n",
            "[980 | 2405.84] loss=2.85 avg=3.10\n",
            "[990 | 2429.97] loss=3.05 avg=3.10\n",
            "[1000 | 2454.13] loss=2.81 avg=3.10\n",
            "Saving checkpoint/run1/model-1000\n",
            "WARNING:tensorflow:From /tensorflow-1.15.2/python3.7/tensorflow_core/python/training/saver.py:963: remove_checkpoint (from tensorflow.python.training.checkpoint_management) is deprecated and will be removed in a future version.\n",
            "Instructions for updating:\n",
            "Use standard file APIs to delete files with this prefix.\n"
          ],
          "name": "stdout"
        }
      ]
    },
    {
      "cell_type": "markdown",
      "metadata": {
        "id": "IXSuTNERaw6K"
      },
      "source": [
        "After the model is trained, you can copy the checkpoint folder to your own Google Drive.\n",
        "\n",
        "If you want to download it to your personal computer, it's strongly recommended you copy it there first, then download from Google Drive. The checkpoint folder is copied as a `.rar` compressed file; you can download it and uncompress it locally."
      ]
    },
    {
      "cell_type": "code",
      "metadata": {
        "id": "VHdTL8NDbAh3"
      },
      "source": [
        "gpt2.copy_checkpoint_to_gdrive(run_name='run1')"
      ],
      "execution_count": null,
      "outputs": []
    },
    {
      "cell_type": "markdown",
      "metadata": {
        "id": "qQJgV_b4bmzd"
      },
      "source": [
        "You're done! Feel free to go to the **Generate Text From The Trained Model** section to generate text based on your retrained model."
      ]
    },
    {
      "cell_type": "markdown",
      "metadata": {
        "id": "pel-uBULXO2L"
      },
      "source": [
        "## Load a Trained Model Checkpoint\n",
        "\n",
        "Running the next cell will copy the `.rar` checkpoint file from your Google Drive into the Colaboratory VM."
      ]
    },
    {
      "cell_type": "code",
      "metadata": {
        "id": "DCcx5u7sbPTD"
      },
      "source": [
        "gpt2.copy_checkpoint_from_gdrive(run_name='run1')"
      ],
      "execution_count": null,
      "outputs": []
    },
    {
      "cell_type": "markdown",
      "metadata": {
        "id": "RTa6zf3e_9gV"
      },
      "source": [
        "The next cell will allow you to load the retrained model checkpoint + metadata necessary to generate text.\n",
        "\n",
        "**IMPORTANT NOTE:** If you want to rerun this cell, **restart the VM first** (Runtime -> Restart Runtime). You will need to rerun imports but not recopy files."
      ]
    },
    {
      "cell_type": "code",
      "metadata": {
        "id": "-fxL77nvAMAX",
        "colab": {
          "base_uri": "https://localhost:8080/"
        },
        "outputId": "a08afbb9-4499-4ee3-a5f9-abe03a24ae8e"
      },
      "source": [
        "#sess = gpt2.start_tf_sess()\n",
        "#gpt2.load_gpt2(sess, run_name='run1')\n",
        "\n",
        "if not sess:\n",
        "  sess = gpt2.start_tf_sess()\n",
        "else:\n",
        "  sess = gpt2.reset_session(sess)\n",
        "    \n",
        "gpt2.load_gpt2(sess, run_name='run1')"
      ],
      "execution_count": null,
      "outputs": [
        {
          "output_type": "stream",
          "text": [
            "Loading checkpoint checkpoint/run1/model-1000\n",
            "INFO:tensorflow:Restoring parameters from checkpoint/run1/model-1000\n"
          ],
          "name": "stdout"
        }
      ]
    },
    {
      "cell_type": "markdown",
      "metadata": {
        "id": "ClJwpF_ACONp"
      },
      "source": [
        "## Generate Text From The Trained (Fine-Tuned) Model\n",
        "\n",
        "After you've trained the model or loaded a retrained model from checkpoint, you can now generate text. `generate` generates a single text from the loaded model."
      ]
    },
    {
      "cell_type": "code",
      "metadata": {
        "id": "4RNY6RBI9LmL",
        "colab": {
          "base_uri": "https://localhost:8080/"
        },
        "outputId": "9c4eea3c-1b38-4653-cd50-523587320c88"
      },
      "source": [
        "gpt2.generate(sess, run_name='run1')"
      ],
      "execution_count": null,
      "outputs": [
        {
          "output_type": "stream",
          "text": [
            "India s COVID 19 vaccine Covaxin is being tested for emergency use in India The vaccine could be used to fight a potentially deadly virus\n",
            "Great news BharatBiotech to launch trials of Covaxin on children in the age group of six months\n",
            "Covaxin and Covishield are two vaccines in the same family We need to understand the ingredients and how the\n",
            "Covaxin makers declared fact check of foreign vaccine makers are NOT part of the Covaxin manufacturing plant in Q\n",
            "A trial of Covaxin in children between six months to 12 years of age has demonstrated an efficacy of 83 6 in\n",
            "Covaxin trials are being conducted in a wave of India s vaccine hesitancy for the age group of six months to\n",
            "COVID19 Covaxin coronavirus COVID19\n",
            "Vaccine manufacturers have declared that they have declared that Covaxin is safe vaccine and that it is safe not\n",
            "Covaxin is one of the safest vaccines available in India\n",
            "Covaxin trials are being conducted in a wave of India s vaccine hesitancy for children under 6 months to\n",
            "Covaxin trials are being conducted in a wave of India s vaccine hesitancy for children under six months to\n",
            "Covaxin trials are being conducted in a wave of India s vaccine hesitancy for children under 6 months to\n",
            "Is Covaxin safe for young people and for young people under 18 regardless of age Covaxin\n",
            "Covaxin trials are being conducted in a wave of India s vaccine hesitancy for children under 6 months to\n",
            "What are the precautions to take when getting vaccinated against COVID 19 Covaxin\n",
            "Covaxin trials are being conducted in a wave of India s vaccine hesitancy for children under 6 months to\n",
            "Covaxin trial being conducted on children between six months to 12 years of age in a wave of India s vaccine o\n",
            "The trial of Covaxin on children between six months to 12 years of age will begin in a wave of\n",
            "Covaxin trials are being conducted in a wave of India s vaccine hesitancy for children under 6 months\n",
            "Covaxin trials are being conducted in a wave of India s vaccine hesitancy for children under 6 months to\n",
            "Covaxin trials are being conducted in a wave of India s vaccine hesitancy for children under 6 months to 12 years\n",
            "Covaxin trials are being conducted in a wave of India s vaccine hesitancy for children under 6 months to\n",
            "Covaxin trials are being conducted in a wave of India s vaccine hesitancy for children under 6 months to 12 years\n",
            "Vaccination drive in India to start today Monday for children aged 2 and above Covaxin\n",
            "I hope Covaxin will get some traction It is safe and effective We are all watching the covid vaccines ha\n",
            "Coronavirus vaccine makers are making their Covid 19 vaccines homegrown so that foreign countries don t feel a\n",
            "Covaxin trials are being conducted in a wave of India s vaccine hesitancy for children under 6 months to\n",
            "The trials are being conducted in a wave of India s vaccine hesitancy for children under 6 months to 12 years o\n",
            "Covaxin trials are being conducted in a wave of India s vaccine hesitancy for children under 6 months to\n",
            "Covaxin trial is being conducted in a wave of India s vaccine hesitancy for children under 6 months to 2\n",
            "Covaxin trials are being conducted in a wave of India s vaccine hesitancy for children under 6 months to\n",
            "Covaxin trials are being conducted in a wave of India s vaccine hesitancy for children under 6 months to 12 years\n",
            "Covaxin trials are being conducted in a wave of India s vaccine hesitancy for children under 6 months to\n",
            "India s COVID 19 Vaccine Covaxin is being tested for emergency use in India The trial is being conducted in a\n",
            "Covaxin trials are being conducted in a wave of India s vaccine hesitancy for children under 6 months to 12 years o\n",
            "Covaxin trials are being conducted in a wave of India s vaccine hesitancy for children under 6 months to 2\n",
            "Covaxin trials are being conducted in a wave of India s vaccine hesitancy for children under 6 months to 12 years\n",
            "Covaxin trials are being conducted in a wave of India s vaccine hesitancy for children under 6 months to 12 years o\n",
            "India s Covid 19 vaccine Covaxin will be manufactured in India and imported to global markets\n",
            "India s Covid 19 vaccine Covaxin will be manufactured in India and imported to global markets\n",
            "Great news Covaxin trials are being conducted in a wave of India s vaccine hesitancy for children under 6 months\n",
            "Covaxin trials are being conducted in a wave of India s vaccine hesitancy for children under 6 months to 12 years to\n",
            "Indian made Covaxin\n"
          ],
          "name": "stdout"
        }
      ]
    },
    {
      "cell_type": "markdown",
      "metadata": {
        "id": "oF4-PqF0Fl7R"
      },
      "source": [
        "If you're creating an API based on your model and need to pass the generated text elsewhere, you can do `text = gpt2.generate(sess, return_as_list=True)[0]`\n",
        "\n",
        "You can also pass in a `prefix` to the generate function to force the text to start with a given character sequence and generate text from there (good if you add an indicator when the text starts).\n",
        "\n",
        "You can also generate multiple texts at a time by specifing `nsamples`. Unique to GPT-2, you can pass a `batch_size` to generate multiple samples in parallel, giving a massive speedup (in Colaboratory, set a maximum of 20 for `batch_size`).\n",
        "\n",
        "Other optional-but-helpful parameters for `gpt2.generate` and friends:\n",
        "\n",
        "*  **`length`**: Number of tokens to generate (default 1023, the maximum)\n",
        "* **`temperature`**: The higher the temperature, the crazier the text (default 0.7, recommended to keep between 0.7 and 1.0)\n",
        "* **`top_k`**: Limits the generated guesses to the top *k* guesses (default 0 which disables the behavior; if the generated output is super crazy, you may want to set `top_k=40`)\n",
        "* **`top_p`**: Nucleus sampling: limits the generated guesses to a cumulative probability. (gets good results on a dataset with `top_p=0.9`)\n",
        "* **`truncate`**: Truncates the input text until a given sequence, excluding that sequence (e.g. if `truncate='<|endoftext|>'`, the returned text will include everything before the first `<|endoftext|>`). It may be useful to combine this with a smaller `length` if the input texts are short.\n",
        "*  **`include_prefix`**: If using `truncate` and `include_prefix=False`, the specified `prefix` will not be included in the returned text."
      ]
    },
    {
      "cell_type": "code",
      "metadata": {
        "id": "8DKMc0fiej4N",
        "colab": {
          "base_uri": "https://localhost:8080/"
        },
        "outputId": "0be2b063-2fbd-4a35-c0aa-88b32c001778"
      },
      "source": [
        "gpt2.generate(sess,\n",
        "              length=10,\n",
        "              temperature=0.7,\n",
        "              prefix=\"The adverse effects of vaccine include\",\n",
        "              nsamples=6,\n",
        "              batch_size=3\n",
        "              )"
      ],
      "execution_count": null,
      "outputs": [
        {
          "output_type": "stream",
          "text": [
            "The adverse effects of vaccine include a high grade incidence of blood clots and possibly\n",
            "====================\n",
            "The adverse effects of vaccine include pain and stiffness whe\n",
            "Get your news featured use\n",
            "====================\n",
            "The adverse effects of vaccine include oxfordastrazeneca the world s most expensive\n",
            "====================\n",
            "The adverse effects of vaccine include a very mild to moderate reaction to the vaccine People\n",
            "====================\n",
            "The adverse effects of vaccine include severe allergic reaction to several ingredients including\n",
            "The adverse\n",
            "====================\n",
            "The adverse effects of vaccine include high blood pressure and low platelet counts Covid\n",
            "====================\n"
          ],
          "name": "stdout"
        }
      ]
    },
    {
      "cell_type": "markdown",
      "metadata": {
        "id": "zjjEN2Tafhl2"
      },
      "source": [
        "For bulk generation, you can generate a large amount of text to a file and sort out the samples locally on your computer. The next cell will generate a generated text file with a unique timestamp.\n",
        "\n",
        "You can rerun the cells as many times as you want for even more generated texts!"
      ]
    },
    {
      "cell_type": "code",
      "metadata": {
        "id": "Fa6p6arifSL0"
      },
      "source": [
        "gen_file = 'gpt2_gentext_{:%Y%m%d_%H%M%S}.txt'.format(datetime.utcnow())\n",
        "\n",
        "gpt2.generate_to_file(sess,\n",
        "                      destination_path=gen_file,\n",
        "                      length=500,\n",
        "                      temperature=0.7,\n",
        "                      nsamples=100,\n",
        "                      batch_size=20\n",
        "                      )"
      ],
      "execution_count": null,
      "outputs": []
    },
    {
      "cell_type": "code",
      "metadata": {
        "id": "0-LRex8lfv1g"
      },
      "source": [
        "# may have to run twice to get file to download\n",
        "files.download(gen_file)"
      ],
      "execution_count": null,
      "outputs": []
    },
    {
      "cell_type": "markdown",
      "metadata": {
        "id": "QQAN3M6RT7Kj"
      },
      "source": [
        "## Generate Text From The Pretrained Model\n",
        "\n",
        "If you want to generate text from the pretrained model, not a finetuned model, pass `model_name` to `gpt2.load_gpt2()` and `gpt2.generate()`.\n",
        "\n",
        "This is currently the only way to generate text from the 774M or 1558M models with this notebook."
      ]
    },
    {
      "cell_type": "code",
      "metadata": {
        "id": "hsUd_jHgUZnD",
        "colab": {
          "base_uri": "https://localhost:8080/",
          "height": 158
        },
        "outputId": "4e0c8a3f-3527-41c4-e3fe-3357f3f8f6c2"
      },
      "source": [
        "model_name = \"774M\"\n",
        "\n",
        "gpt2.download_gpt2(model_name=model_name)"
      ],
      "execution_count": null,
      "outputs": [
        {
          "output_type": "stream",
          "text": [
            "Fetching checkpoint: 1.05Mit [00:00, 354Mit/s]                                                      \n",
            "Fetching encoder.json: 1.05Mit [00:00, 131Mit/s]                                                    \n",
            "Fetching hparams.json: 1.05Mit [00:00, 279Mit/s]                                                    \n",
            "Fetching model.ckpt.data-00000-of-00001: 3.10Git [00:23, 131Mit/s]                                  \n",
            "Fetching model.ckpt.index: 1.05Mit [00:00, 380Mit/s]                                                \n",
            "Fetching model.ckpt.meta: 2.10Mit [00:00, 226Mit/s]                                                 \n",
            "Fetching vocab.bpe: 1.05Mit [00:00, 199Mit/s]                                                       \n"
          ],
          "name": "stderr"
        }
      ]
    },
    {
      "cell_type": "code",
      "metadata": {
        "id": "BAe4NpKNUj2C",
        "colab": {
          "base_uri": "https://localhost:8080/",
          "height": 124
        },
        "outputId": "b09bfe1d-2ff8-4b8a-fffb-273d28d5d4ae"
      },
      "source": [
        "sess = gpt2.start_tf_sess()\n",
        "\n",
        "gpt2.load_gpt2(sess, model_name=model_name)"
      ],
      "execution_count": null,
      "outputs": [
        {
          "output_type": "stream",
          "text": [
            "WARNING: Logging before flag parsing goes to stderr.\n",
            "W0828 18:37:58.571830 139905369159552 deprecation.py:323] From /usr/local/lib/python3.6/dist-packages/tensorflow/python/training/saver.py:1276: checkpoint_exists (from tensorflow.python.training.checkpoint_management) is deprecated and will be removed in a future version.\n",
            "Instructions for updating:\n",
            "Use standard file APIs to check for files with this prefix.\n"
          ],
          "name": "stderr"
        },
        {
          "output_type": "stream",
          "text": [
            "Loading pretrained model models/774M/model.ckpt\n"
          ],
          "name": "stdout"
        }
      ]
    },
    {
      "cell_type": "code",
      "metadata": {
        "id": "-xInIZKaU104",
        "colab": {
          "base_uri": "https://localhost:8080/",
          "height": 797
        },
        "outputId": "56348e28-7d08-45e3-c859-f26c0efd066d"
      },
      "source": [
        "gpt2.generate(sess,\n",
        "              model_name=model_name,\n",
        "              prefix=\"The secret of life is\",\n",
        "              length=100,\n",
        "              temperature=0.7,\n",
        "              top_p=0.9,\n",
        "              nsamples=5,\n",
        "              batch_size=5\n",
        "              )"
      ],
      "execution_count": null,
      "outputs": [
        {
          "output_type": "stream",
          "text": [
            "The secret of life is that it's really easy to make it complicated,\" said Bill Nye, the host of the popular science show \"Bill Nye the Science Guy.\" \"And this is one of the reasons why we all need to be smarter about science, because we can't keep up with the amazing things that are going on all the time.\"\n",
            "\n",
            "While Nye is correct that \"everything that's going on all the time\" is making the world a better place, he misses the point. This is not\n",
            "====================\n",
            "The secret of life is in the rhythm of the universe. It's not a mystery. It's not a mystery to me. It's the nature of the universe. It's the beauty of the universe. It's the way the universe works. It's the way the universe is. It's the way the universe is going to work. It's the way the universe is. It's the way the universe is. It's the way the universe is. It's the way the universe is. It's the way\n",
            "====================\n",
            "The secret of life is in the universe.\n",
            "\n",
            "\n",
            "-\n",
            "\n",
            "The Red Devil\n",
            "\n",
            "It's the end of the world as we know it, and the only thing that can save us is a band of super-powered individuals known as the Red Devil.\n",
            "\n",
            "\n",
            "The Red Devil is a group of super-powered individuals who are seeking the secret of life and the only way they know how to do it is by taking on the roles of a variety of different super-powered individuals, each of which has their own\n",
            "====================\n",
            "The secret of life is in the mixing of the elements, and it is the mixing of the elements that makes life possible.\"\n",
            "\n",
            "But in the world of food science, the idea of a \"complex\" or \"complexity\" is almost entirely imaginary.\n",
            "\n",
            "As a scientist, I'm fascinated by the question of how life first began.\n",
            "\n",
            "It's the question that drives my work and the work of the scientists who work on it.\n",
            "\n",
            "My current research is exploring how microbes work in the first moments\n",
            "====================\n",
            "The secret of life is the journey of life, the search for the truth.\n",
            "\n",
            "4.4.2. The last thing you know\n",
            "\n",
            "There is nothing more important than the last thing you know.\n",
            "\n",
            "4.4.3. The little things that make all the difference\n",
            "\n",
            "The little things that make all the difference.\n",
            "\n",
            "4.4.4. The truth is the best teacher\n",
            "\n",
            "The truth is the best teacher.\n",
            "\n",
            "4.4.5. The truth is what\n",
            "====================\n"
          ],
          "name": "stdout"
        }
      ]
    }
  ]
}