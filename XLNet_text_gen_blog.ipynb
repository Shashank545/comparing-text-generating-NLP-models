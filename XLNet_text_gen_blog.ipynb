{
  "nbformat": 4,
  "nbformat_minor": 0,
  "metadata": {
    "accelerator": "GPU",
    "colab": {
      "name": "XLNet_text_gen_blog.ipynb",
      "provenance": [],
      "collapsed_sections": [],
      "toc_visible": true
    },
    "kernelspec": {
      "display_name": "Python 3",
      "language": "python",
      "name": "python3"
    },
    "language_info": {
      "codemirror_mode": {
        "name": "ipython",
        "version": 3
      },
      "file_extension": ".py",
      "mimetype": "text/x-python",
      "name": "python",
      "nbconvert_exporter": "python",
      "pygments_lexer": "ipython3",
      "version": "3.8.5"
    }
  },
  "cells": [
    {
      "cell_type": "code",
      "metadata": {
        "id": "3vGaZboxHBGB"
      },
      "source": [
        "import numpy as np"
      ],
      "execution_count": null,
      "outputs": []
    },
    {
      "cell_type": "code",
      "metadata": {
        "colab": {
          "base_uri": "https://localhost:8080/"
        },
        "id": "9q015qYDFoy9",
        "outputId": "0ab49464-cd14-41a8-cfd3-a436f0e72f46"
      },
      "source": [
        "!git clone https://github.com/huggingface/transformers.git"
      ],
      "execution_count": null,
      "outputs": [
        {
          "name": "stdout",
          "output_type": "stream",
          "text": [
            "Cloning into 'transformers'...\n",
            "remote: Enumerating objects: 79312, done.\u001b[K\n",
            "remote: Counting objects: 100% (166/166), done.\u001b[K\n",
            "remote: Compressing objects: 100% (112/112), done.\u001b[K\n",
            "remote: Total 79312 (delta 67), reused 103 (delta 38), pack-reused 79146\u001b[K\n",
            "Receiving objects: 100% (79312/79312), 62.36 MiB | 27.04 MiB/s, done.\n",
            "Resolving deltas: 100% (56687/56687), done.\n"
          ]
        }
      ]
    },
    {
      "cell_type": "code",
      "metadata": {
        "colab": {
          "base_uri": "https://localhost:8080/"
        },
        "id": "dP4mDxbsF1yd",
        "outputId": "05bf5348-ae56-4ac5-9827-c0e2de88c379"
      },
      "source": [
        "cd transformers/examples/pytorch/text-generation/"
      ],
      "execution_count": null,
      "outputs": [
        {
          "name": "stdout",
          "output_type": "stream",
          "text": [
            "/content/transformers/examples/pytorch/text-generation\n"
          ]
        }
      ]
    },
    {
      "cell_type": "markdown",
      "metadata": {
        "id": "EQS4-7kwImC1"
      },
      "source": [
        "## Installing Requirements"
      ]
    },
    {
      "cell_type": "code",
      "metadata": {
        "colab": {
          "base_uri": "https://localhost:8080/"
        },
        "id": "oh4GeoQMF22M",
        "outputId": "94af3393-6f76-47fd-b4bd-eabd8d0d9b66"
      },
      "source": [
        "!pip install -r requirements.txt"
      ],
      "execution_count": null,
      "outputs": [
        {
          "name": "stdout",
          "output_type": "stream",
          "text": [
            "Collecting sentencepiece!=0.1.92\n",
            "  Downloading sentencepiece-0.1.96-cp38-cp38-manylinux_2_17_x86_64.manylinux2014_x86_64.whl (1.2 MB)\n",
            "\u001b[K     |████████████████████████████████| 1.2 MB 1.2 MB/s eta 0:00:01\n",
            "\u001b[?25hRequirement already satisfied: protobuf in /home/p7112486@NESSINBLR.COM/anaconda3/lib/python3.8/site-packages (from -r requirements.txt (line 2)) (3.15.8)\n",
            "Collecting torch>=1.3\n",
            "  Using cached torch-1.9.0-cp38-cp38-manylinux1_x86_64.whl (831.4 MB)\n",
            "Requirement already satisfied: six>=1.9 in /home/p7112486@NESSINBLR.COM/anaconda3/lib/python3.8/site-packages (from protobuf->-r requirements.txt (line 2)) (1.15.0)\n",
            "Requirement already satisfied: typing-extensions in /home/p7112486@NESSINBLR.COM/anaconda3/lib/python3.8/site-packages (from torch>=1.3->-r requirements.txt (line 3)) (3.7.4.3)\n",
            "Installing collected packages: sentencepiece, torch\n",
            "Successfully installed sentencepiece-0.1.96 torch-1.9.0\n"
          ]
        }
      ]
    },
    {
      "cell_type": "code",
      "metadata": {
        "colab": {
          "base_uri": "https://localhost:8080/"
        },
        "id": "YZnFWewc3DHx",
        "outputId": "42f1aa49-718e-4809-c630-7a3a9eec350c"
      },
      "source": [
        "ls"
      ],
      "execution_count": null,
      "outputs": [
        {
          "name": "stdout",
          "output_type": "stream",
          "text": [
            "Copy_of_XLNet_gen.ipynb  README.md  requirements.txt  \u001b[0m\u001b[01;32mrun_generation.py\u001b[0m*\r\n"
          ]
        }
      ]
    },
    {
      "cell_type": "code",
      "metadata": {
        "colab": {
          "base_uri": "https://localhost:8080/"
        },
        "id": "7w2AFD_I3mP1",
        "outputId": "5dc76530-e5a5-4b74-b548-9e02b4362148"
      },
      "source": [
        "!pip install transformers"
      ],
      "execution_count": null,
      "outputs": [
        {
          "name": "stdout",
          "output_type": "stream",
          "text": [
            "Collecting transformers\n",
            "  Downloading transformers-4.9.1-py3-none-any.whl (2.6 MB)\n",
            "\u001b[K     |████████████████████████████████| 2.6 MB 1.4 MB/s eta 0:00:01\n",
            "\u001b[?25hRequirement already satisfied: regex!=2019.12.17 in /home/p7112486@NESSINBLR.COM/anaconda3/lib/python3.8/site-packages (from transformers) (2020.10.15)\n",
            "Collecting sacremoses\n",
            "  Using cached sacremoses-0.0.45-py3-none-any.whl (895 kB)\n",
            "Requirement already satisfied: tqdm>=4.27 in /home/p7112486@NESSINBLR.COM/anaconda3/lib/python3.8/site-packages (from transformers) (4.50.2)\n",
            "Requirement already satisfied: numpy>=1.17 in /home/p7112486@NESSINBLR.COM/anaconda3/lib/python3.8/site-packages (from transformers) (1.19.5)\n",
            "Requirement already satisfied: pyyaml>=5.1 in /home/p7112486@NESSINBLR.COM/anaconda3/lib/python3.8/site-packages (from transformers) (5.3.1)\n",
            "Requirement already satisfied: filelock in /home/p7112486@NESSINBLR.COM/anaconda3/lib/python3.8/site-packages (from transformers) (3.0.12)\n",
            "Requirement already satisfied: requests in /home/p7112486@NESSINBLR.COM/anaconda3/lib/python3.8/site-packages (from transformers) (2.25.1)\n",
            "Collecting huggingface-hub==0.0.12\n",
            "  Downloading huggingface_hub-0.0.12-py3-none-any.whl (37 kB)\n",
            "Requirement already satisfied: packaging in /home/p7112486@NESSINBLR.COM/anaconda3/lib/python3.8/site-packages (from transformers) (20.4)\n",
            "Collecting tokenizers<0.11,>=0.10.1\n",
            "  Using cached tokenizers-0.10.3-cp38-cp38-manylinux_2_5_x86_64.manylinux1_x86_64.manylinux_2_12_x86_64.manylinux2010_x86_64.whl (3.3 MB)\n",
            "Requirement already satisfied: click in /home/p7112486@NESSINBLR.COM/anaconda3/lib/python3.8/site-packages (from sacremoses->transformers) (7.1.2)\n",
            "Requirement already satisfied: six in /home/p7112486@NESSINBLR.COM/anaconda3/lib/python3.8/site-packages (from sacremoses->transformers) (1.15.0)\n",
            "Requirement already satisfied: joblib in /home/p7112486@NESSINBLR.COM/anaconda3/lib/python3.8/site-packages (from sacremoses->transformers) (0.17.0)\n",
            "Requirement already satisfied: idna<3,>=2.5 in /home/p7112486@NESSINBLR.COM/anaconda3/lib/python3.8/site-packages (from requests->transformers) (2.10)\n",
            "Requirement already satisfied: chardet<5,>=3.0.2 in /home/p7112486@NESSINBLR.COM/anaconda3/lib/python3.8/site-packages (from requests->transformers) (4.0.0)\n",
            "Requirement already satisfied: urllib3<1.27,>=1.21.1 in /home/p7112486@NESSINBLR.COM/anaconda3/lib/python3.8/site-packages (from requests->transformers) (1.26.4)\n",
            "Requirement already satisfied: certifi>=2017.4.17 in /home/p7112486@NESSINBLR.COM/anaconda3/lib/python3.8/site-packages (from requests->transformers) (2020.12.5)\n",
            "Requirement already satisfied: typing-extensions in /home/p7112486@NESSINBLR.COM/anaconda3/lib/python3.8/site-packages (from huggingface-hub==0.0.12->transformers) (3.7.4.3)\n",
            "Requirement already satisfied: pyparsing>=2.0.2 in /home/p7112486@NESSINBLR.COM/anaconda3/lib/python3.8/site-packages (from packaging->transformers) (2.4.7)\n",
            "Installing collected packages: sacremoses, huggingface-hub, tokenizers, transformers\n",
            "\u001b[31mERROR: After October 2020 you may experience errors when installing or updating packages. This is because pip will change the way that it resolves dependency conflicts.\n",
            "\n",
            "We recommend you use --use-feature=2020-resolver to test your packages with the new resolver before it becomes the default.\n",
            "\n",
            "huggingface-hub 0.0.12 requires packaging>=20.9, but you'll have packaging 20.4 which is incompatible.\u001b[0m\n",
            "Successfully installed huggingface-hub-0.0.12 sacremoses-0.0.45 tokenizers-0.10.3 transformers-4.9.1\n"
          ]
        }
      ]
    },
    {
      "cell_type": "markdown",
      "metadata": {
        "id": "cZ-slbRfIvO4"
      },
      "source": [
        "## Text Generation on parser prompts"
      ]
    },
    {
      "cell_type": "code",
      "metadata": {
        "colab": {
          "base_uri": "https://localhost:8080/"
        },
        "id": "c0B-Oz0rb-Zx",
        "outputId": "475a8eb7-6431-473e-aa06-9f8eff7364ec"
      },
      "source": [
        "!python run_generation.py* --model_type=xlnet-base-cased --model_name_or_path=xlnet-base-cased --prompt=\"New cases reported in Canada are\""
      ],
      "execution_count": null,
      "outputs": [
        {
          "name": "stdout",
          "output_type": "stream",
          "text": [
            "2021-08-03 18:11:17.035101: I tensorflow/stream_executor/platform/default/dso_loader.cc:49] Successfully opened dynamic library libcudart.so.11.0\n",
            "08/03/2021 18:11:17 - WARNING - __main__ - device: cuda, n_gpu: 1, 16-bits training: False\n",
            "08/03/2021 18:11:31 - INFO - __main__ - Namespace(device=device(type='cuda'), fp16=False, k=0, length=20, model_name_or_path='xlnet-base-cased', model_type='xlnet-base-cased', n_gpu=1, no_cuda=False, num_return_sequences=1, p=0.9, padding_text='', prefix='', prompt='New cases reported in Canada are', repetition_penalty=1.0, seed=42, stop_token=None, temperature=1.0, xlm_language='')\n",
            "=== GENERATED SEQUENCE 1 ===\n",
            "New cases reported in Canada are uncommon... this site performs CPR on dead clients from car accidents or other injuries. The duration\n"
          ]
        }
      ]
    },
    {
      "cell_type": "code",
      "metadata": {
        "id": "rG0KYGzCF5Zf",
        "outputId": "718654b6-750a-460c-de1b-8f32fc134d80"
      },
      "source": [
        ""
      ],
      "execution_count": null,
      "outputs": [
        {
          "name": "stdout",
          "output_type": "stream",
          "text": [
            "/bin/bash: The: command not found\r\n"
          ]
        }
      ]
    },
    {
      "cell_type": "markdown",
      "metadata": {
        "id": "v0zugLl1JGKy"
      },
      "source": [
        "## Custom Text prompts to autocomplete"
      ]
    },
    {
      "cell_type": "code",
      "metadata": {
        "id": "XS80ShCBHBGH"
      },
      "source": [
        "parser = \"Number of doses required for full vaccination with covaxin is\""
      ],
      "execution_count": 1,
      "outputs": []
    },
    {
      "cell_type": "code",
      "metadata": {
        "id": "yR3nFGyIGH0z",
        "outputId": "1f9c97b5-f7b3-4833-9bc3-a6783fc574dd"
      },
      "source": [
        "!python run_generation.py* --model_type=xlnet-base-cased --model_name_or_path=xlnet-base-cased --seed=800 --prompt=\"The efficacy of Pfizer vaccine is\""
      ],
      "execution_count": null,
      "outputs": [
        {
          "name": "stdout",
          "output_type": "stream",
          "text": [
            "2021-08-03 18:43:32.979838: I tensorflow/stream_executor/platform/default/dso_loader.cc:49] Successfully opened dynamic library libcudart.so.11.0\n",
            "08/03/2021 18:43:33 - WARNING - __main__ - device: cuda, n_gpu: 1, 16-bits training: False\n",
            "08/03/2021 18:43:46 - INFO - __main__ - Namespace(device=device(type='cuda'), fp16=False, k=0, length=20, model_name_or_path='xlnet-base-cased', model_type='xlnet-base-cased', n_gpu=1, no_cuda=False, num_return_sequences=1, p=0.9, padding_text='', prefix='', prompt='The efficacy of Pfizer vaccine is', repetition_penalty=1.0, seed=800, stop_token=None, temperature=1.0, xlm_language='')\n",
            "=== GENERATED SEQUENCE 1 ===\n",
            "The efficacy of Pfizer vaccine is substantially below the current \"2 percent dosage required by the FDA\". However, Pfizer is susceptible\n"
          ]
        }
      ]
    },
    {
      "cell_type": "code",
      "metadata": {
        "id": "-MFZEtiMcv7n"
      },
      "source": [
        ""
      ],
      "execution_count": null,
      "outputs": []
    },
    {
      "cell_type": "code",
      "metadata": {
        "id": "F6lVl_Xe4h-Z"
      },
      "source": [
        ""
      ],
      "execution_count": null,
      "outputs": []
    },
    {
      "cell_type": "code",
      "metadata": {
        "id": "Mucs6z3vceEz"
      },
      "source": [
        ""
      ],
      "execution_count": null,
      "outputs": []
    }
  ]
}